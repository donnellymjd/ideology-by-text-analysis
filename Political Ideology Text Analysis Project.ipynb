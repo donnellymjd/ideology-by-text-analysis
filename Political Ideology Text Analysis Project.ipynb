{
 "cells": [
  {
   "cell_type": "code",
   "execution_count": 107,
   "metadata": {
    "collapsed": false
   },
   "outputs": [
    {
     "name": "stdout",
     "output_type": "stream",
     "text": [
      "D\n",
      "R\n"
     ]
    }
   ],
   "source": []
  },
  {
   "cell_type": "code",
   "execution_count": 113,
   "metadata": {
    "collapsed": false
   },
   "outputs": [
    {
     "data": {
      "text/plain": [
       "11"
      ]
     },
     "execution_count": 113,
     "metadata": {},
     "output_type": "execute_result"
    }
   ],
   "source": []
  },
  {
   "cell_type": "code",
   "execution_count": 97,
   "metadata": {
    "collapsed": false
   },
   "outputs": [],
   "source": [
    "import os\n",
    "import pandas as pd \n",
    " \n",
    "path = '/Users/michael/Google Drive/NYC-DAT-34/projects/michael_donnelly/proj2/'"
   ]
  },
  {
   "cell_type": "code",
   "execution_count": 78,
   "metadata": {
    "collapsed": true
   },
   "outputs": [],
   "source": [
    "from sunlightapi import sunlight, SunlightApiError\n",
    "sunlight.apikey = '0806e9fd3fb648ce87b474dd666709df'"
   ]
  },
  {
   "cell_type": "code",
   "execution_count": 150,
   "metadata": {
    "collapsed": false
   },
   "outputs": [
    {
     "name": "stdout",
     "output_type": "stream",
     "text": [
      "689\n",
      "593\n"
     ]
    }
   ],
   "source": [
    "%%time\n",
    "rawcat = pd.DataFrame()\n",
    "for x in ('D', 'R'):\n",
    "    sunurl = 'http://capitolwords.org/api/1/text.json?congress=111&chamber=house&party='+x+'&apikey=0806e9fd3fb648ce87b474dd666709df'\n",
    "    sunraw = pd.read_json(path_or_buf=sunurl, orient='values')\n",
    "    if sunraw.num_found[1]%50>0: \n",
    "        pagerange = (sunraw.num_found[1]/50)+1\n",
    "    else:\n",
    "        pagerange = (sunraw.num_found[1]/50)\n",
    "    print pagerange\n",
    "    for page in range(1,pagerange+1):\n",
    "        sunurl = 'http://capitolwords.org/api/1/text.json?congress=111&chamber=house&party='+x \\\n",
    "        +'&per_page=50&page='+str(page)+'&apikey='+sunlight.apikey\n",
    "        rawcat = pd.concat([pd.read_json(path_or_buf=sunurl, orient='values'), rawcat])"
   ]
  },
  {
   "cell_type": "code",
   "execution_count": 151,
   "metadata": {
    "collapsed": false
   },
   "outputs": [
    {
     "name": "stdout",
     "output_type": "stream",
     "text": [
      "<class 'pandas.core.frame.DataFrame'>\n",
      "Int64Index: 63941 entries, 0 to 0\n",
      "Data columns (total 20 columns):\n",
      "speaker_state       63941 non-null object\n",
      "speaker_raw         63941 non-null object\n",
      "speaker_first       63941 non-null object\n",
      "congress            63941 non-null object\n",
      "title               63941 non-null object\n",
      "origin_url          63941 non-null object\n",
      "number              63941 non-null object\n",
      "id                  63941 non-null object\n",
      "volume              63941 non-null object\n",
      "chamber             63941 non-null object\n",
      "session             63941 non-null object\n",
      "speaker_last        63941 non-null object\n",
      "pages               63941 non-null object\n",
      "speaker_party       63941 non-null object\n",
      "date                63941 non-null object\n",
      "bills               8203 non-null object\n",
      "bioguide_id         63941 non-null object\n",
      "order               63941 non-null object\n",
      "speaking            63941 non-null object\n",
      "capitolwords_url    63941 non-null object\n",
      "dtypes: object(20)\n",
      "memory usage: 10.2+ MB\n"
     ]
    }
   ],
   "source": [
    "df = pd.concat([pd.DataFrame.from_dict(item, orient='index').T for item in rawcat.results])\n",
    "df.info()"
   ]
  },
  {
   "cell_type": "code",
   "execution_count": 153,
   "metadata": {
    "collapsed": false
   },
   "outputs": [],
   "source": [
    "df.to_csv(path+'111.csv', encoding='utf-8')"
   ]
  },
  {
   "cell_type": "code",
   "execution_count": 157,
   "metadata": {
    "collapsed": false
   },
   "outputs": [
    {
     "data": {
      "text/html": [
       "<div>\n",
       "<table border=\"1\" class=\"dataframe\">\n",
       "  <thead>\n",
       "    <tr style=\"text-align: right;\">\n",
       "      <th></th>\n",
       "      <th>speaker_state</th>\n",
       "      <th>speaker_raw</th>\n",
       "      <th>speaker_first</th>\n",
       "      <th>congress</th>\n",
       "      <th>title</th>\n",
       "      <th>origin_url</th>\n",
       "      <th>number</th>\n",
       "      <th>id</th>\n",
       "      <th>volume</th>\n",
       "      <th>chamber</th>\n",
       "      <th>session</th>\n",
       "      <th>speaker_last</th>\n",
       "      <th>pages</th>\n",
       "      <th>speaker_party</th>\n",
       "      <th>date</th>\n",
       "      <th>bills</th>\n",
       "      <th>bioguide_id</th>\n",
       "      <th>order</th>\n",
       "      <th>speaking</th>\n",
       "      <th>capitolwords_url</th>\n",
       "    </tr>\n",
       "  </thead>\n",
       "  <tbody>\n",
       "    <tr>\n",
       "      <th>0</th>\n",
       "      <td>AL</td>\n",
       "      <td>mr. bachus</td>\n",
       "      <td>Spencer</td>\n",
       "      <td>111</td>\n",
       "      <td>PAY FOR PERFORMANCE ACT</td>\n",
       "      <td>http://origin.www.gpo.gov/fdsys/pkg/CREC-2009-...</td>\n",
       "      <td>55</td>\n",
       "      <td>CREC-2009-04-01-pt1-PgH4287-2.chunk154</td>\n",
       "      <td>155</td>\n",
       "      <td>House</td>\n",
       "      <td>1</td>\n",
       "      <td>Bachus</td>\n",
       "      <td>H4287-H4310</td>\n",
       "      <td>R</td>\n",
       "      <td>2009-04-01</td>\n",
       "      <td>None</td>\n",
       "      <td>B000013</td>\n",
       "      <td>154</td>\n",
       "      <td>[Mr. Chairman, the gentleman who offered this ...</td>\n",
       "      <td>http://capitolwords.org/date/2009/04/01/H4287-...</td>\n",
       "    </tr>\n",
       "    <tr>\n",
       "      <th>0</th>\n",
       "      <td>GA</td>\n",
       "      <td>mr. price of georgia</td>\n",
       "      <td>Tom</td>\n",
       "      <td>111</td>\n",
       "      <td>PAY FOR PERFORMANCE ACT</td>\n",
       "      <td>http://origin.www.gpo.gov/fdsys/pkg/CREC-2009-...</td>\n",
       "      <td>55</td>\n",
       "      <td>CREC-2009-04-01-pt1-PgH4287-2.chunk162</td>\n",
       "      <td>155</td>\n",
       "      <td>House</td>\n",
       "      <td>1</td>\n",
       "      <td>Price</td>\n",
       "      <td>H4287-H4310</td>\n",
       "      <td>R</td>\n",
       "      <td>2009-04-01</td>\n",
       "      <td>None</td>\n",
       "      <td>P000591</td>\n",
       "      <td>162</td>\n",
       "      <td>[Mr. Chairman, I understand I have 30 seconds....</td>\n",
       "      <td>http://capitolwords.org/date/2009/04/01/H4287-...</td>\n",
       "    </tr>\n",
       "    <tr>\n",
       "      <th>0</th>\n",
       "      <td>GA</td>\n",
       "      <td>mr. price of georgia</td>\n",
       "      <td>Tom</td>\n",
       "      <td>111</td>\n",
       "      <td>PAY FOR PERFORMANCE ACT</td>\n",
       "      <td>http://origin.www.gpo.gov/fdsys/pkg/CREC-2009-...</td>\n",
       "      <td>55</td>\n",
       "      <td>CREC-2009-04-01-pt1-PgH4287-2.chunk163</td>\n",
       "      <td>155</td>\n",
       "      <td>House</td>\n",
       "      <td>1</td>\n",
       "      <td>Price</td>\n",
       "      <td>H4287-H4310</td>\n",
       "      <td>R</td>\n",
       "      <td>2009-04-01</td>\n",
       "      <td>None</td>\n",
       "      <td>P000591</td>\n",
       "      <td>163</td>\n",
       "      <td>[I am pleased to yield my 30 seconds to the ch...</td>\n",
       "      <td>http://capitolwords.org/date/2009/04/01/H4287-...</td>\n",
       "    </tr>\n",
       "  </tbody>\n",
       "</table>\n",
       "</div>"
      ],
      "text/plain": [
       "  speaker_state           speaker_raw speaker_first congress  \\\n",
       "0            AL            mr. bachus       Spencer      111   \n",
       "0            GA  mr. price of georgia           Tom      111   \n",
       "0            GA  mr. price of georgia           Tom      111   \n",
       "\n",
       "                     title                                         origin_url  \\\n",
       "0  PAY FOR PERFORMANCE ACT  http://origin.www.gpo.gov/fdsys/pkg/CREC-2009-...   \n",
       "0  PAY FOR PERFORMANCE ACT  http://origin.www.gpo.gov/fdsys/pkg/CREC-2009-...   \n",
       "0  PAY FOR PERFORMANCE ACT  http://origin.www.gpo.gov/fdsys/pkg/CREC-2009-...   \n",
       "\n",
       "  number                                      id volume chamber session  \\\n",
       "0     55  CREC-2009-04-01-pt1-PgH4287-2.chunk154    155   House       1   \n",
       "0     55  CREC-2009-04-01-pt1-PgH4287-2.chunk162    155   House       1   \n",
       "0     55  CREC-2009-04-01-pt1-PgH4287-2.chunk163    155   House       1   \n",
       "\n",
       "  speaker_last        pages speaker_party        date bills bioguide_id order  \\\n",
       "0       Bachus  H4287-H4310             R  2009-04-01  None     B000013   154   \n",
       "0        Price  H4287-H4310             R  2009-04-01  None     P000591   162   \n",
       "0        Price  H4287-H4310             R  2009-04-01  None     P000591   163   \n",
       "\n",
       "                                            speaking  \\\n",
       "0  [Mr. Chairman, the gentleman who offered this ...   \n",
       "0  [Mr. Chairman, I understand I have 30 seconds....   \n",
       "0  [I am pleased to yield my 30 seconds to the ch...   \n",
       "\n",
       "                                    capitolwords_url  \n",
       "0  http://capitolwords.org/date/2009/04/01/H4287-...  \n",
       "0  http://capitolwords.org/date/2009/04/01/H4287-...  \n",
       "0  http://capitolwords.org/date/2009/04/01/H4287-...  "
      ]
     },
     "execution_count": 157,
     "metadata": {},
     "output_type": "execute_result"
    }
   ],
   "source": [
    "df[1100:1103]"
   ]
  },
  {
   "cell_type": "code",
   "execution_count": 160,
   "metadata": {
    "collapsed": false
   },
   "outputs": [
    {
     "ename": "IndexError",
     "evalue": "only integers, slices (`:`), ellipsis (`...`), numpy.newaxis (`None`) and integer or boolean arrays are valid indices",
     "output_type": "error",
     "traceback": [
      "\u001b[0;31m---------------------------------------------------------------------------\u001b[0m",
      "\u001b[0;31mIndexError\u001b[0m                                Traceback (most recent call last)",
      "\u001b[0;32m<ipython-input-160-cea2fcbdabb0>\u001b[0m in \u001b[0;36m<module>\u001b[0;34m()\u001b[0m\n\u001b[0;32m----> 1\u001b[0;31m \u001b[0mdf\u001b[0m\u001b[0;34m.\u001b[0m\u001b[0mdrop\u001b[0m\u001b[0;34m(\u001b[0m\u001b[0mdf\u001b[0m\u001b[0;34m.\u001b[0m\u001b[0mcolumns\u001b[0m\u001b[0;34m[\u001b[0m\u001b[0;34m[\u001b[0m\u001b[0;34m'speaker_raw'\u001b[0m\u001b[0;34m]\u001b[0m\u001b[0;34m]\u001b[0m\u001b[0;34m,\u001b[0m \u001b[0maxis\u001b[0m\u001b[0;34m=\u001b[0m\u001b[0;36m1\u001b[0m\u001b[0;34m,\u001b[0m \u001b[0minplace\u001b[0m\u001b[0;34m=\u001b[0m\u001b[0mTrue\u001b[0m\u001b[0;34m)\u001b[0m\u001b[0;34m\u001b[0m\u001b[0m\n\u001b[0m",
      "\u001b[0;32m/Users/michael/anaconda/lib/python2.7/site-packages/pandas/core/index.pyc\u001b[0m in \u001b[0;36m__getitem__\u001b[0;34m(self, key)\u001b[0m\n\u001b[1;32m   1158\u001b[0m \u001b[0;34m\u001b[0m\u001b[0m\n\u001b[1;32m   1159\u001b[0m         \u001b[0mkey\u001b[0m \u001b[0;34m=\u001b[0m \u001b[0m_values_from_object\u001b[0m\u001b[0;34m(\u001b[0m\u001b[0mkey\u001b[0m\u001b[0;34m)\u001b[0m\u001b[0;34m\u001b[0m\u001b[0m\n\u001b[0;32m-> 1160\u001b[0;31m         \u001b[0mresult\u001b[0m \u001b[0;34m=\u001b[0m \u001b[0mgetitem\u001b[0m\u001b[0;34m(\u001b[0m\u001b[0mkey\u001b[0m\u001b[0;34m)\u001b[0m\u001b[0;34m\u001b[0m\u001b[0m\n\u001b[0m\u001b[1;32m   1161\u001b[0m         \u001b[0;32mif\u001b[0m \u001b[0;32mnot\u001b[0m \u001b[0mnp\u001b[0m\u001b[0;34m.\u001b[0m\u001b[0misscalar\u001b[0m\u001b[0;34m(\u001b[0m\u001b[0mresult\u001b[0m\u001b[0;34m)\u001b[0m\u001b[0;34m:\u001b[0m\u001b[0;34m\u001b[0m\u001b[0m\n\u001b[1;32m   1162\u001b[0m             \u001b[0;32mreturn\u001b[0m \u001b[0mpromote\u001b[0m\u001b[0;34m(\u001b[0m\u001b[0mresult\u001b[0m\u001b[0;34m)\u001b[0m\u001b[0;34m\u001b[0m\u001b[0m\n",
      "\u001b[0;31mIndexError\u001b[0m: only integers, slices (`:`), ellipsis (`...`), numpy.newaxis (`None`) and integer or boolean arrays are valid indices"
     ]
    }
   ],
   "source": [
    "df.drop(df.columns[['speaker_raw']], axis=1, inplace=True)"
   ]
  },
  {
   "cell_type": "code",
   "execution_count": 6,
   "metadata": {
    "collapsed": false
   },
   "outputs": [
    {
     "data": {
      "text/plain": [
       "the     89378\n",
       ",       74868\n",
       ".       62787\n",
       "to      47780\n",
       "of      42010\n",
       "and     37862\n",
       "that    27773\n",
       "in      26691\n",
       "a       23264\n",
       "is      20759\n",
       "i       20021\n",
       "this    18897\n",
       "for     16118\n",
       "we      16039\n",
       "it      13014\n",
       "not     11368\n",
       "are     10933\n",
       "have    10915\n",
       "on      10789\n",
       "mr.     10244\n",
       "dtype: int64"
      ]
     },
     "execution_count": 6,
     "metadata": {},
     "output_type": "execute_result"
    }
   ],
   "source": [
    "words = pd.Series([word for line in df.speech.values for word in line.lower().split()]).value_counts()\n",
    "words.head(20)"
   ]
  },
  {
   "cell_type": "code",
   "execution_count": 7,
   "metadata": {
    "collapsed": true
   },
   "outputs": [],
   "source": [
    "df['dem'] = 0\n",
    "df.ix[df.partyID==\"D\", 'dem'] = 1"
   ]
  },
  {
   "cell_type": "code",
   "execution_count": 12,
   "metadata": {
    "collapsed": false
   },
   "outputs": [],
   "source": [
    "#%%time\n",
    "from sklearn.feature_extraction import text\n",
    "from sklearn.linear_model import LinearRegression, Lasso, Ridge, LogisticRegression\n",
    "from sklearn.cross_validation import cross_val_score\n",
    "from sklearn.feature_selection import SelectPercentile, f_classif\n",
    "#cross_val_score\n",
    "#cv = CountVectorizer(stop_words = 'english', ngram_range=(1,4), max_features=2000, \n",
    "#                     min_df=.10, # only use words that appear at least some times (integer = absolute count)\n",
    "#                     max_df=.95)  # ignore words that appear too frequently\n",
    "\n",
    "cv = TfidfVectorizer(stop_words = 'english', ngram_range=(1,3), \n",
    "                     min_df=.05, # only use words that appear at least some times (integer = absolute count)\n",
    "                     max_df=.5)  # ignore words that appear too frequently\n",
    "\n",
    "X, y = cv.fit_transform(df.speech).todense(), df.dem\n",
    "\n",
    "#selector = SelectPercentile(f_classif, percentile=10)"
   ]
  },
  {
   "cell_type": "code",
   "execution_count": null,
   "metadata": {
    "collapsed": false
   },
   "outputs": [],
   "source": []
  },
  {
   "cell_type": "code",
   "execution_count": 13,
   "metadata": {
    "collapsed": false
   },
   "outputs": [
    {
     "name": "stdout",
     "output_type": "stream",
     "text": [
      "alpha     0.0010  OLS 0.3705 Lasso 0.4721 Ridge 0.4356\n",
      "alpha     0.0100  OLS 0.3705 Lasso 0.5004 Ridge 0.4356\n",
      "alpha     0.1000  OLS 0.3705 Lasso 0.5004 Ridge 0.4357\n",
      "alpha     1.0000  OLS 0.3705 Lasso 0.5004 Ridge 0.4367\n",
      "alpha    10.0000  OLS 0.3705 Lasso 0.5004 Ridge 0.4514\n",
      "alpha   100.0000  OLS 0.3705 Lasso 0.5004 Ridge 0.4843\n",
      "alpha  1000.0000  OLS 0.3705 Lasso 0.5004 Ridge 0.4978\n",
      "alpha 10000.0000  OLS 0.3705 Lasso 0.5004 Ridge 0.5001\n"
     ]
    }
   ],
   "source": [
    "for n in xrange(-3, 5):\n",
    "    alpha = 10 ** n\n",
    "    print \"alpha %10.4f  OLS %.4f Lasso %.4f Ridge %.4f\" % \\\n",
    "        (alpha, \n",
    "         -cross_val_score(LogisticRegression(C=10, penalty='l1'), X, y, cv=10, scoring='mean_absolute_error').mean(),\n",
    "         -cross_val_score(Lasso(alpha), X, y, cv=10, scoring='mean_absolute_error').mean(), \n",
    "         -cross_val_score(Ridge(alpha), X, y, cv=10, scoring='mean_absolute_error').mean())"
   ]
  },
  {
   "cell_type": "code",
   "execution_count": 15,
   "metadata": {
    "collapsed": false
   },
   "outputs": [
    {
     "name": "stdout",
     "output_type": "stream",
     "text": [
      "Always 0 gives MAE 0.5032\n",
      "Always 1 gives MAE 0.4968\n"
     ]
    }
   ],
   "source": [
    "import numpy as np\n",
    "for score in range(2):\n",
    "    print \"Always %d gives MAE %.4f\" % (score, np.abs(score - df.dem).mean())"
   ]
  },
  {
   "cell_type": "code",
   "execution_count": 78,
   "metadata": {
    "collapsed": false
   },
   "outputs": [
    {
     "name": "stdout",
     "output_type": "stream",
     "text": [
      "Worst: balance time, consume, chairman, point, gentleman, good, united states, important, act, minutes, government, work, percent, speaker, issue\n",
      "Best : colleagues, national, does, president, people, know, country, california, provide, mr, member, vote, yield minutes, thank gentleman, fact\n"
     ]
    },
    {
     "name": "stderr",
     "output_type": "stream",
     "text": [
      "/Users/michael/anaconda/lib/python2.7/site-packages/ipykernel/__main__.py:9: FutureWarning: sort is deprecated, use sort_values(inplace=True) for for INPLACE sorting\n"
     ]
    },
    {
     "data": {
      "image/png": "[encoded data removed]",
      "text/plain": [
       "<matplotlib.figure.Figure at 0x122d66890>"
      ]
     },
     "metadata": {},
     "output_type": "display_data"
    }
   ],
   "source": [
    "from matplotlib import pyplot as plt\n",
    "%matplotlib inline\n",
    "\n",
    "\n",
    "model = Ridge(alpha=100)\n",
    "model.fit(X, y)\n",
    "\n",
    "coef = pd.Series(model.coef_, index=cv.get_feature_names())\n",
    "coef.sort()\n",
    "top = 15\n",
    "fig, axes = plt.subplots(1, 2, figsize=(12, 4))\n",
    "f = coef[:top].plot(kind='barh', ax=axes[0])\n",
    "f = coef[-top:].plot(kind='barh', ax=axes[1])\n",
    "print \"Worst:\", \", \".join(coef[:top].index)\n",
    "print \"Best :\", \", \".join(coef[-top:].index)"
   ]
  },
  {
   "cell_type": "code",
   "execution_count": null,
   "metadata": {
    "collapsed": true
   },
   "outputs": [],
   "source": [
    "from sklearn.cross_validation import KFold\n",
    "\n",
    "model = Lasso(alpha=.001)\n",
    "#model = LinearRegression()\n",
    "#model = Ridge(alpha=100)\n",
    "\n",
    "kfold = KFold(len(X), n_folds=5, shuffle=True)\n",
    "np.mean(cross_val_score(model, X, y, cv=kfold, scoring='r2'))"
   ]
  }
 ],
 "metadata": {
  "kernelspec": {
   "display_name": "Python 2",
   "language": "python",
   "name": "python2"
  },
  "language_info": {
   "codemirror_mode": {
    "name": "ipython",
    "version": 2
   },
   "file_extension": ".py",
   "mimetype": "text/x-python",
   "name": "python",
   "nbconvert_exporter": "python",
   "pygments_lexer": "ipython2",
   "version": "2.7.11"
  }
 },
 "nbformat": 4,
 "nbformat_minor": 0
}
